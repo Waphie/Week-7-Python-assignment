{
 "cells": [
  {
   "cell_type": "code",
   "execution_count": null,
   "id": "51af70f1",
   "metadata": {
    "vscode": {
     "languageId": "plaintext"
    }
   },
   "outputs": [],
   "source": [
    "# Import required libraries\n",
    "import pandas as pd\n",
    "import numpy as np\n",
    "\n",
    "# Load the dataset (replace 'dataset.csv' with the actual path to your CSV file)\n",
    "df = pd.read_csv('dataset.csv')\n",
    "\n",
    "# Display the first few rows of the dataset\n",
    "df.head()\n",
    "\n",
    "# Check the structure and data types of the dataset\n",
    "df.info()\n",
    "\n",
    "# Check for missing values\n",
    "df.isnull().sum()\n",
    "\n",
    "# Clean the dataset by filling or dropping missing values\n",
    "df = df.dropna()  # Or you can fill missing values with a method like df.fillna(value)\n",
    "# Compute basic statistics for numerical columns\n",
    "df.describe()\n",
    "\n",
    "# Perform groupings by a categorical column (e.g., 'species') and compute the mean of a numerical column (e.g., 'sepal_length')\n",
    "grouped = df.groupby('species')['sepal_length'].mean()\n",
    "\n",
    "# Display the results of the grouping\n",
    "grouped\n",
    "import matplotlib.pyplot as plt\n",
    "import seaborn as sns\n",
    "\n",
    "# Line chart showing trends over time (replace with actual time column if applicable)\n",
    "plt.figure(figsize=(10,6))\n",
    "plt.plot(df['date'], df['sales'], label='Sales Over Time')\n",
    "plt.title('Sales Trend Over Time')\n",
    "plt.xlabel('Date')\n",
    "plt.ylabel('Sales')\n",
    "plt.legend()\n",
    "plt.grid(True)\n",
    "plt.show()\n",
    "\n",
    "# Bar chart showing the comparison of numerical values across categories\n",
    "plt.figure(figsize=(10,6))\n",
    "df.groupby('species')['sepal_length'].mean().plot(kind='bar')\n",
    "plt.title('Average Sepal Length per Species')\n",
    "plt.xlabel('Species')\n",
    "plt.ylabel('Average Sepal Length')\n",
    "plt.xticks(rotation=0)\n",
    "plt.show()\n",
    "\n",
    "# Histogram to visualize the distribution of a numerical column\n",
    "plt.figure(figsize=(10,6))\n",
    "plt.hist(df['sepal_length'], bins=20, edgecolor='black')\n",
    "plt.title('Distribution of Sepal Length')\n",
    "plt.xlabel('Sepal Length')\n",
    "plt.ylabel('Frequency')\n",
    "plt.show()\n",
    "\n",
    "# Scatter plot to visualize the relationship between two numerical columns\n",
    "plt.figure(figsize=(10,6))\n",
    "plt.scatter(df['sepal_length'], df['petal_length'])\n",
    "plt.title('Sepal Length vs. Petal Length')\n",
    "plt.xlabel('Sepal Length')\n",
    "plt.ylabel('Petal Length')\n",
    "plt.show()\n"
   ]
  }
 ],
 "metadata": {
  "language_info": {
   "name": "python"
  }
 },
 "nbformat": 4,
 "nbformat_minor": 5
}
